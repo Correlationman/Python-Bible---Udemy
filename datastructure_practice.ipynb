{
 "cells": [
  {
   "cell_type": "code",
   "execution_count": 2,
   "id": "f10474b4-2795-456d-addc-3b50a8ffb48b",
   "metadata": {},
   "outputs": [],
   "source": [
    "our_list=[27,46.9,-5,\"A\",\"True\",True]"
   ]
  },
  {
   "cell_type": "markdown",
   "id": "c2ca3c33-378b-448e-9a21-da6e75b828f6",
   "metadata": {},
   "source": [
    "[Definition](https://book.pythontips.com/en/latest/enumerate.html) Enumerate allows us to loop over iterable items and generates an automatic counter."
   ]
  },
  {
   "cell_type": "markdown",
   "id": "5aa8e1c9-b613-4aea-a99d-dc2c08e210cc",
   "metadata": {},
   "source": [
    "Write anything and run in Markdown mode [Link](https://book.pythontips.com/en/latest/enumerate.html)"
   ]
  },
  {
   "cell_type": "code",
   "execution_count": 5,
   "id": "2c1b612b-18d3-48ac-be48-48c170065efe",
   "metadata": {},
   "outputs": [
    {
     "name": "stdout",
     "output_type": "stream",
     "text": [
      "0 27\n",
      "1 46.9\n",
      "2 -5\n",
      "3 A\n",
      "4 True\n",
      "5 True\n"
     ]
    }
   ],
   "source": [
    "for k,v in enumerate(our_list):\n",
    "    print(k,v)"
   ]
  },
  {
   "cell_type": "code",
   "execution_count": 6,
   "id": "d40fe75e-0fb1-40f4-ac2f-5ef4c636f830",
   "metadata": {},
   "outputs": [
    {
     "name": "stdout",
     "output_type": "stream",
     "text": [
      "<class 'list'>\n"
     ]
    }
   ],
   "source": [
    "print(type(our_list))"
   ]
  },
  {
   "cell_type": "code",
   "execution_count": 7,
   "id": "23918374-f1e8-4ebe-b838-f637c2602df9",
   "metadata": {},
   "outputs": [
    {
     "name": "stdout",
     "output_type": "stream",
     "text": [
      "[27, 46.9, -5]\n"
     ]
    }
   ],
   "source": [
    "print(our_list[0:3])"
   ]
  },
  {
   "cell_type": "code",
   "execution_count": 8,
   "id": "8a8ddaa3-d095-42a8-89fe-2d1833847bf7",
   "metadata": {},
   "outputs": [],
   "source": [
    "#Nested list\n",
    "our_list=[1,2,[3,4,5],6,7,8]"
   ]
  },
  {
   "cell_type": "code",
   "execution_count": 9,
   "id": "eb7529d8-f17c-4b94-8868-08b075630cbe",
   "metadata": {},
   "outputs": [
    {
     "name": "stdout",
     "output_type": "stream",
     "text": [
      "[[3, 4, 5], 6, 7, 8]\n"
     ]
    }
   ],
   "source": [
    "print(our_list[2:])"
   ]
  },
  {
   "cell_type": "code",
   "execution_count": 10,
   "id": "2dee4302-e668-492f-8ab8-14e36bb40a6e",
   "metadata": {},
   "outputs": [
    {
     "name": "stdout",
     "output_type": "stream",
     "text": [
      "3\n"
     ]
    }
   ],
   "source": [
    "print(our_list[2][0])"
   ]
  },
  {
   "cell_type": "code",
   "execution_count": 11,
   "id": "15417e0b-7c32-4530-8d0a-eb9a702a4d12",
   "metadata": {},
   "outputs": [
    {
     "name": "stdout",
     "output_type": "stream",
     "text": [
      "[1, 2, 3]\n",
      "4 8\n",
      "[7, 8]\n"
     ]
    }
   ],
   "source": [
    "our_table=[[1,2,3],[4,5,6],[7,8,9]]\n",
    "print(our_table[0])\n",
    "print(our_table[1][0], our_table[2][1])\n",
    "print(our_table[2][:2])"
   ]
  },
  {
   "cell_type": "code",
   "execution_count": 12,
   "id": "6c6e38ee-637e-4664-839b-97a80ef0d351",
   "metadata": {},
   "outputs": [
    {
     "name": "stdout",
     "output_type": "stream",
     "text": [
      "False\n",
      "True\n"
     ]
    }
   ],
   "source": [
    "# Recognition\n",
    "print(2 in our_table)\n",
    "print([1,2,3] in our_table)"
   ]
  },
  {
   "cell_type": "code",
   "execution_count": 13,
   "id": "876d8c17-4ac2-4b1b-877e-106300cea7f1",
   "metadata": {},
   "outputs": [
    {
     "name": "stdout",
     "output_type": "stream",
     "text": [
      "[[1, 3], [4, 5, 6], [7, 8, 9]]\n",
      "[[1], [4, 5, 6], [7, 8, 9]]\n"
     ]
    }
   ],
   "source": [
    "# Remove a known content from List by method remove() or delete an index by function del\n",
    "our_table[0].remove(2)\n",
    "print(our_table)\n",
    "del our_table[0][1:]\n",
    "print(our_table)"
   ]
  },
  {
   "cell_type": "code",
   "execution_count": 14,
   "id": "3ac3d97f-b2fe-4dac-8c83-741a9d91cc9f",
   "metadata": {},
   "outputs": [
    {
     "name": "stdout",
     "output_type": "stream",
     "text": [
      "[[1, 2], [4, 5, 6], [7, 8, 9]]\n"
     ]
    }
   ],
   "source": [
    "# Add a known content to List by method append()\n",
    "our_table[0].append(2)\n",
    "print(our_table)"
   ]
  },
  {
   "cell_type": "code",
   "execution_count": 15,
   "id": "373a68be-a0f4-45cd-b085-86f1b589cce1",
   "metadata": {},
   "outputs": [
    {
     "name": "stdout",
     "output_type": "stream",
     "text": [
      "[[1, 2, 3], [4, 5, 6], [7, 8, 9]]\n"
     ]
    }
   ],
   "source": [
    "our_table[0].append(3)\n",
    "print(our_table)"
   ]
  },
  {
   "cell_type": "code",
   "execution_count": 16,
   "id": "fa5e59cb-d167-4f81-aae9-83b0590584c2",
   "metadata": {},
   "outputs": [
    {
     "name": "stdout",
     "output_type": "stream",
     "text": [
      "[[1, 2, 3], [4, 5, 6], [7, 8, 9], 1]\n"
     ]
    }
   ],
   "source": [
    "print(our_table+[1])"
   ]
  },
  {
   "cell_type": "code",
   "execution_count": 17,
   "id": "c4ed7aba-0aec-477d-a039-5d5c84860d79",
   "metadata": {},
   "outputs": [
    {
     "name": "stdout",
     "output_type": "stream",
     "text": [
      "[1, 2, 3, 1]\n"
     ]
    }
   ],
   "source": [
    "our_table=our_table[0]+[1]\n",
    "print(our_table)"
   ]
  },
  {
   "cell_type": "code",
   "execution_count": 18,
   "id": "afa17276-9953-4803-89b5-31302e6e6ac1",
   "metadata": {},
   "outputs": [
    {
     "name": "stdout",
     "output_type": "stream",
     "text": [
      "[5, 12, 31, 49, 72]\n",
      "[5, 12, 100, 31, 49, 72]\n"
     ]
    }
   ],
   "source": [
    "# Add a known index to List by method insert()\n",
    "our_table=[5,12,31,49,72]\n",
    "print(our_table)\n",
    "our_table.insert(2,100)\n",
    "print(our_table)"
   ]
  },
  {
   "cell_type": "code",
   "execution_count": 19,
   "id": "fcb7d3f8-0d5a-4ba4-87ee-aac9649a9f36",
   "metadata": {},
   "outputs": [
    {
     "name": "stdout",
     "output_type": "stream",
     "text": [
      "(1, 2, 3, 'A', 'B', 'C')\n"
     ]
    }
   ],
   "source": [
    "#Tuples\n",
    "our_tuple=1,2,3,'A','B','C'\n",
    "print(our_tuple)"
   ]
  },
  {
   "cell_type": "code",
   "execution_count": 20,
   "id": "438e6324-ed2a-466c-9474-a046ad3cdbbf",
   "metadata": {},
   "outputs": [
    {
     "name": "stdout",
     "output_type": "stream",
     "text": [
      "<class 'list'>\n",
      "(1, 2, 3) <class 'tuple'>\n"
     ]
    }
   ],
   "source": [
    "# Tuples cannot be changed unlike Lists\n",
    "A=[1,2,3]\n",
    "print(type(A))\n",
    "A=tuple(A)\n",
    "print(A,type(A))"
   ]
  },
  {
   "cell_type": "code",
   "execution_count": 21,
   "id": "6cd2b8f6-c82a-4091-ba24-adbf096eb78d",
   "metadata": {},
   "outputs": [
    {
     "name": "stdout",
     "output_type": "stream",
     "text": [
      "{'Alice': 25, 'Bob': 27, 'Clair': 17}\n",
      "27\n"
     ]
    }
   ],
   "source": [
    "#Dictionary{keys:values}\n",
    "students={}\n",
    "students={\"Alice\":25,\"Bob\":27,\"Clair\":17}\n",
    "print(students)\n",
    "print(students[\"Bob\"])"
   ]
  },
  {
   "cell_type": "code",
   "execution_count": 22,
   "id": "ec951b09-40cd-41b2-82b9-a8eb35f75eaa",
   "metadata": {},
   "outputs": [
    {
     "name": "stdout",
     "output_type": "stream",
     "text": [
      "dict_keys(['Alice', 'Bob', 'Clair'])\n"
     ]
    }
   ],
   "source": [
    "print(students.keys())"
   ]
  },
  {
   "cell_type": "code",
   "execution_count": 23,
   "id": "185d006c-8f2c-4085-9b22-60c7d5385852",
   "metadata": {},
   "outputs": [
    {
     "name": "stdout",
     "output_type": "stream",
     "text": [
      "dict_values([25, 27, 17])\n"
     ]
    }
   ],
   "source": [
    "print(students.values())"
   ]
  },
  {
   "cell_type": "code",
   "execution_count": 24,
   "id": "7a4f07f7-e6fe-43cb-9cb1-49de2a9975f2",
   "metadata": {},
   "outputs": [
    {
     "name": "stdout",
     "output_type": "stream",
     "text": [
      "['Alice', 'Bob', 'Clair'] ['Bob', 'Clair'] ['Alice']\n"
     ]
    }
   ],
   "source": [
    "# To change any of keys or values, convert the dictionary keys() and values() to List\n",
    "a=list(students.keys())\n",
    "print(a[:],a[1:],a[:1])"
   ]
  },
  {
   "cell_type": "code",
   "execution_count": 25,
   "id": "4b1fb1e9-ec2b-49cd-aba1-87049b38b0a7",
   "metadata": {},
   "outputs": [
    {
     "name": "stdout",
     "output_type": "stream",
     "text": [
      "[25, 27, 17] [27, 17] [25, 27]\n"
     ]
    }
   ],
   "source": [
    "b=list(students.values())\n",
    "print(b[:],b[1:],b[:2])"
   ]
  },
  {
   "cell_type": "code",
   "execution_count": 26,
   "id": "85e77076-bf24-4b95-95dc-2bca94eeb9d7",
   "metadata": {},
   "outputs": [
    {
     "name": "stdout",
     "output_type": "stream",
     "text": [
      "dict_items([('Alice', 25), ('Bob', 27), ('Clair', 17)])\n",
      "<class 'dict_items'>\n"
     ]
    }
   ],
   "source": [
    "c=students.items()\n",
    "print(c)\n",
    "print(type(c))"
   ]
  },
  {
   "cell_type": "code",
   "execution_count": 27,
   "id": "173aafc1-f54a-45c7-92f4-b840c340337f",
   "metadata": {},
   "outputs": [
    {
     "name": "stdout",
     "output_type": "stream",
     "text": [
      "['ID3', 17, 'C']\n",
      "ID3\n",
      "[17, 'C']\n"
     ]
    }
   ],
   "source": [
    "# Multiple values for each key in a List\n",
    "students={\"Alice\":[\"ID1\",25,\"A\"],\"Bob\":[\"ID2\",27,\"B\"],\"Clair\":[\"ID3\",17,\"C\"]}\n",
    "print(students[\"Clair\"])\n",
    "print(students[\"Clair\"][0])\n",
    "print(students[\"Clair\"][1:])"
   ]
  },
  {
   "cell_type": "code",
   "execution_count": 28,
   "id": "6de7733e-53e6-4cc3-ac7d-55e0e9bafa3a",
   "metadata": {},
   "outputs": [
    {
     "name": "stdout",
     "output_type": "stream",
     "text": [
      "{'id': 'ID003', 'age': 17, 'grade': 'C'}\n",
      "17 A\n"
     ]
    }
   ],
   "source": [
    "# Give each key a dictionary\n",
    "students={\"Alice\":{\"id\":\"ID001\",\"age\":25,\"grade\":\"A\"},\"Bob\":{\"id\":\"ID002\",\"age\":27,\"grade\":\"B\"},\"Clair\":{\"id\":\"ID003\",\"age\":17,\"grade\":\"C\"}}\n",
    "print(students[\"Clair\"])\n",
    "print(students[\"Clair\"][\"age\"],students[\"Alice\"][\"grade\"])"
   ]
  },
  {
   "cell_type": "code",
   "execution_count": null,
   "id": "f509f93c-2c5d-45ef-b608-331f9ae2ec9d",
   "metadata": {},
   "outputs": [],
   "source": []
  },
  {
   "cell_type": "code",
   "execution_count": null,
   "id": "cdff5e38-e20e-4b54-ae50-6fa3b48433a8",
   "metadata": {},
   "outputs": [],
   "source": []
  },
  {
   "cell_type": "code",
   "execution_count": null,
   "id": "cd5f0bc0-aefe-4078-b1d2-4e3fd5054916",
   "metadata": {},
   "outputs": [],
   "source": []
  }
 ],
 "metadata": {
  "kernelspec": {
   "display_name": "anaconda-panel-2023.05-py310",
   "language": "python",
   "name": "conda-env-anaconda-panel-2023.05-py310-py"
  },
  "language_info": {
   "codemirror_mode": {
    "name": "ipython",
    "version": 3
   },
   "file_extension": ".py",
   "mimetype": "text/x-python",
   "name": "python",
   "nbconvert_exporter": "python",
   "pygments_lexer": "ipython3",
   "version": "3.11.5"
  }
 },
 "nbformat": 4,
 "nbformat_minor": 5
}
