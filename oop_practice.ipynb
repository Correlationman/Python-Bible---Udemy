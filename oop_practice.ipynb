{
 "cells": [
  {
   "cell_type": "code",
   "execution_count": null,
   "id": "e24323d7-80a5-41ca-9283-12232b8a0b40",
   "metadata": {},
   "outputs": [],
   "source": [
    "\"\"\"\n",
    "Created on Tue Nov 16 14:04:47 2016\n",
    "From Umedy course: The Python Bible™\n",
    "Section 10: OOP\n",
    "\"\"\""
   ]
  },
  {
   "cell_type": "code",
   "execution_count": null,
   "id": "0ed7cfad-567c-4ddd-afc8-0273e3882372",
   "metadata": {},
   "outputs": [],
   "source": [
    "# These libraries are not needed here, just to test if they load\n",
    "import pandas\n",
    "import numpy\n",
    "import matplotlib\n",
    "import IPython\n",
    "# import sklearn\n",
    "# import seaborn"
   ]
  },
  {
   "cell_type": "code",
   "execution_count": null,
   "id": "ca92edbd-80b6-41d9-9688-ea268b393dc4",
   "metadata": {},
   "outputs": [],
   "source": [
    "# Classes are like templates\n",
    "# We instantiate a class to make an object, object is an instance of a class\n",
    "# Objects have States (proprties) and Methods (behaviours)"
   ]
  },
  {
   "cell_type": "code",
   "execution_count": null,
   "id": "0bc25a57-1b57-4c05-bcd1-549d91aec424",
   "metadata": {},
   "outputs": [],
   "source": [
    "# Create a class\n",
    "class Pound:\n",
    "    value=1.00\n",
    "    colour=\"gold\"\n",
    "    diameter=22.5 #mm\n",
    "    thickness=3.15 #mm\n",
    "    heads=True"
   ]
  },
  {
   "cell_type": "code",
   "execution_count": null,
   "id": "95fcf022-fa99-4c12-a37f-82cb29c18b56",
   "metadata": {},
   "outputs": [],
   "source": [
    "# Create an object coin1 as an instance of the class Pound\n",
    "coin1=Pound()\n",
    "print(type(Pound))\n",
    "print(type(coin1))\n",
    "print(coin1.value)\n",
    "print(coin1.colour)\n",
    "coin1.colour=\"greenish\"\n",
    "print(coin1.colour)"
   ]
  },
  {
   "cell_type": "code",
   "execution_count": null,
   "id": "5c0a22c7-d272-49b9-8308-7255723878a3",
   "metadata": {},
   "outputs": [],
   "source": [
    "# Another instance of the Pound class\n",
    "coin2=Pound()\n",
    "print(coin2.colour)"
   ]
  },
  {
   "cell_type": "code",
   "execution_count": null,
   "id": "a1cf82ee-27fe-4a5c-ac24-9ce13aefdc1c",
   "metadata": {},
   "outputs": [],
   "source": [
    "import random"
   ]
  },
  {
   "cell_type": "code",
   "execution_count": null,
   "id": "b1b8f036-95fa-49df-892c-0ec5a0a69247",
   "metadata": {},
   "outputs": [],
   "source": [
    "#Encapsulation\n",
    "#Class Methods, Constructors and Destructors\n",
    "#Wrapping up data member and method together into a single unit (i.e. Class)\n",
    "#is called Encapsulation. Encapsulation means hiding the internal details of \n",
    "#an object,i.e. how an object does something."
   ]
  },
  {
   "cell_type": "code",
   "execution_count": null,
   "id": "fcbb3889-9e42-422a-92c9-f139bbdb9e0e",
   "metadata": {},
   "outputs": [],
   "source": [
    "class Pound:\n",
    "    #init method (constructor)   \n",
    "    def __init__(self,rare=False):\n",
    "        \n",
    "        self.rare=rare\n",
    "        if self.rare:\n",
    "            self.value=1.25\n",
    "        else:\n",
    "            self.value=1.00\n",
    "            self.colour=\"gold\"\n",
    "        self.num_edges=1\n",
    "        self.diameter=22.5 #mm\n",
    "        self.thickness=3.15 #mm\n",
    "        self.mass=9.5\n",
    "        self.heads=True"
   ]
  },
  {
   "cell_type": "code",
   "execution_count": null,
   "id": "725c8fcf-a19e-4ec6-9a08-4ea8ee4a1e56",
   "metadata": {},
   "outputs": [],
   "source": [
    "#rust method    \n",
    "def rust(self):\n",
    "    self.colour=\"greenish\""
   ]
  },
  {
   "cell_type": "code",
   "execution_count": null,
   "id": "d4266068-0252-4ebc-aa2c-81cfb1bd2b66",
   "metadata": {},
   "outputs": [],
   "source": [
    "#clean method    \n",
    "def clean(self):\n",
    "    self.colour=\"gold\""
   ]
  },
  {
   "cell_type": "code",
   "execution_count": null,
   "id": "414f6a3c-5a64-4c5f-8a38-9fc13f8a573c",
   "metadata": {},
   "outputs": [],
   "source": [
    "#flip method    \n",
    "def flip(self):\n",
    "    heads_options=[True,False]\n",
    "    choice=random.choice(heads_options)\n",
    "    self.heads=choice"
   ]
  },
  {
   "cell_type": "code",
   "execution_count": null,
   "id": "1c436dca-3696-4a8c-96e1-9250528fa21b",
   "metadata": {},
   "outputs": [],
   "source": [
    "#del method (destructor)      \n",
    "def __del__(self):\n",
    "    print(\"Coin Spent!\")"
   ]
  },
  {
   "cell_type": "code",
   "execution_count": null,
   "id": "1c253071-d5f3-47ef-8123-10253169750e",
   "metadata": {},
   "outputs": [],
   "source": []
  }
 ],
 "metadata": {
  "kernelspec": {
   "display_name": "anaconda-panel-2023.05-py310",
   "language": "python",
   "name": "conda-env-anaconda-panel-2023.05-py310-py"
  },
  "language_info": {
   "codemirror_mode": {
    "name": "ipython",
    "version": 3
   },
   "file_extension": ".py",
   "mimetype": "text/x-python",
   "name": "python",
   "nbconvert_exporter": "python",
   "pygments_lexer": "ipython3",
   "version": "3.11.5"
  }
 },
 "nbformat": 4,
 "nbformat_minor": 5
}
