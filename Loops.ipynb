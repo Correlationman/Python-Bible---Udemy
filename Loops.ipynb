{
 "cells": [
  {
   "cell_type": "code",
   "execution_count": 1,
   "id": "fceb7619-2362-4735-92b2-a5bf33edd22f",
   "metadata": {},
   "outputs": [
    {
     "data": {
      "text/plain": [
       "'\\nCreated on Tue Nov 16 14:04:47 2016\\nFrom Umedy course: The Python Bible™\\nSection 8: Loops\\n'"
      ]
     },
     "execution_count": 1,
     "metadata": {},
     "output_type": "execute_result"
    }
   ],
   "source": [
    "\"\"\"\n",
    "Created on Tue Nov 16 14:04:47 2016\n",
    "From Umedy course: The Python Bible™\n",
    "Section 8: Loops\n",
    "\"\"\""
   ]
  },
  {
   "cell_type": "code",
   "execution_count": 2,
   "id": "66b0aca1-3a6c-4bed-87e2-4e1ad3241662",
   "metadata": {},
   "outputs": [
    {
     "name": "stdout",
     "output_type": "stream",
     "text": [
      "This number: 1 is an odd number\n",
      "Does not print even numbers!\n",
      "This number: 3 is an odd number\n",
      "Does not print even numbers!\n",
      "This number: 5 is an odd number\n",
      "Does not print even numbers!\n",
      "This number: 7 is an odd number\n",
      "Does not print even numbers!\n",
      "This number: 9 is an odd number\n",
      "Does not print even numbers!\n"
     ]
    }
   ],
   "source": [
    "#while and for loops\n",
    "number =1\n",
    "while number<=10:\n",
    "    # print only odd numbers\n",
    "    if number%2!=0:\n",
    "        string=\"This number: {} is an odd number\"\n",
    "        output=string.format(number)\n",
    "        print(output)        \n",
    "        #print(number)\n",
    "    else:\n",
    "        print(\"Does not print even numbers!\")\n",
    "    number=number+1"
   ]
  },
  {
   "cell_type": "code",
   "execution_count": 3,
   "id": "69e0e62c-61c5-43a0-914e-138b1b2aa610",
   "metadata": {},
   "outputs": [
    {
     "name": "stdin",
     "output_type": "stream",
     "text": [
      "Tell a number:  12\n",
      "Tell a number:  34\n",
      "Tell a number:  56\n"
     ]
    },
    {
     "name": "stdout",
     "output_type": "stream",
     "text": [
      "Sorry list is full\n",
      "['12', '34', '56']\n",
      "12 3\n",
      "1\n",
      "2\n",
      "3\n",
      "4\n",
      "5\n",
      "6\n",
      "7\n",
      "8\n",
      "9\n",
      "Another way:\n",
      "1\n",
      "3\n",
      "5\n",
      "6\n",
      "8\n",
      "9\n"
     ]
    }
   ],
   "source": [
    "L=[]\n",
    "while len(L)<3:\n",
    "    number=input(\"Tell a number: \")\n",
    "    L.append(number)\n",
    "print('Sorry list is full')\n",
    "print(L)\n",
    "print(L[0],len(L))\n",
    "\n",
    "for number in range(1,10):\n",
    "    print(number)\n",
    "print(\"Another way:\")    \n",
    "for number in [1,3,5,6,8,9]:\n",
    "    print(number)   "
   ]
  },
  {
   "cell_type": "code",
   "execution_count": 4,
   "id": "3897dc2e-a0d7-4499-ad12-2007d715b6cb",
   "metadata": {},
   "outputs": [
    {
     "name": "stdout",
     "output_type": "stream",
     "text": [
      "[2, 4, 6, 8]\n",
      "[1, 3, 5, 7, 9]\n"
     ]
    }
   ],
   "source": [
    "# List comprehensions\n",
    "even_numbers=[x for x in range(1,10) if x%2==0]\n",
    "print(even_numbers)\n",
    "odd_numbers=[x for x in range(1,10) if x%2!=0]\n",
    "print(odd_numbers)"
   ]
  },
  {
   "cell_type": "code",
   "execution_count": 5,
   "id": "749600c2-871c-4982-bfb2-1814395155b4",
   "metadata": {},
   "outputs": [
    {
     "name": "stdout",
     "output_type": "stream",
     "text": [
      "[['THE', 'the', 3], ['QUICK', 'quick', 5], ['BROWN', 'brown', 5], ['FOX', 'fox', 3]]\n"
     ]
    }
   ],
   "source": [
    "words=[\"the\",\"quick\",\"brown\",\"fox\"]\n",
    "# create another list (answer from our list (words)\n",
    "answer=[[w.upper(),w.lower(),len(w)] for w in words]\n",
    "print(answer)\n",
    "   "
   ]
  },
  {
   "cell_type": "code",
   "execution_count": null,
   "id": "1806ba67-5003-489b-8486-a538e426d6ac",
   "metadata": {},
   "outputs": [],
   "source": []
  }
 ],
 "metadata": {
  "kernelspec": {
   "display_name": "anaconda-panel-2023.05-py310",
   "language": "python",
   "name": "conda-env-anaconda-panel-2023.05-py310-py"
  },
  "language_info": {
   "codemirror_mode": {
    "name": "ipython",
    "version": 3
   },
   "file_extension": ".py",
   "mimetype": "text/x-python",
   "name": "python",
   "nbconvert_exporter": "python",
   "pygments_lexer": "ipython3",
   "version": "3.11.5"
  }
 },
 "nbformat": 4,
 "nbformat_minor": 5
}
