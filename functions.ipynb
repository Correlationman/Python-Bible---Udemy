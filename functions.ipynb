{
 "cells": [
  {
   "cell_type": "code",
   "execution_count": 1,
   "id": "fa2fb0ef-51c0-4320-b42e-cb36af721063",
   "metadata": {},
   "outputs": [
    {
     "data": {
      "text/plain": [
       "'\\nCreated on Tue Nov 16 14:04:47 2016\\nFrom Umedy course: The Python Bible™\\nSection 9: Functions\\n'"
      ]
     },
     "execution_count": 1,
     "metadata": {},
     "output_type": "execute_result"
    }
   ],
   "source": [
    "\"\"\"\n",
    "Created on Tue Nov 16 14:04:47 2016\n",
    "From Umedy course: The Python Bible™\n",
    "Section 9: Functions\n",
    "\"\"\""
   ]
  },
  {
   "cell_type": "code",
   "execution_count": 2,
   "id": "ad8f1b16-b5be-427b-94bd-b8e19cff8a60",
   "metadata": {},
   "outputs": [],
   "source": [
    "#Functions\n",
    "def rev(text):\n",
    "    return text[::-1]"
   ]
  },
  {
   "cell_type": "code",
   "execution_count": 3,
   "id": "1dcc641a-1aad-456f-849b-1d6f1732f41c",
   "metadata": {},
   "outputs": [
    {
     "name": "stdout",
     "output_type": "stream",
     "text": [
      "hcser nimar\n",
      "HCSER NIMAR\n",
      "Hcser nimar\n",
      "Hcser Nimar\n"
     ]
    }
   ],
   "source": [
    "a=rev('Ramin Resch').lower()    \n",
    "print(a)\n",
    "a=rev('Ramin Resch').upper()    \n",
    "print(a)\n",
    "a=rev('Ramin Resch').capitalize()   \n",
    "print(a)\n",
    "a=rev('Ramin Resch').title()   \n",
    "print(a)"
   ]
  },
  {
   "cell_type": "code",
   "execution_count": 4,
   "id": "50c8d75d-d8b7-4170-a6a9-a64d02653b52",
   "metadata": {},
   "outputs": [
    {
     "name": "stdout",
     "output_type": "stream",
     "text": [
      "[4, 3, 2, 1]\n"
     ]
    }
   ],
   "source": [
    "b=rev([1,2,3,4])\n",
    "print(b)"
   ]
  },
  {
   "cell_type": "code",
   "execution_count": 5,
   "id": "165dae13-569f-4226-9a12-83b55762bc48",
   "metadata": {},
   "outputs": [],
   "source": [
    "# Variable Scope: Global or Local\n",
    "a=100\n",
    "def f1():\n",
    "    print(a) # Global scope"
   ]
  },
  {
   "cell_type": "code",
   "execution_count": 6,
   "id": "2a6f7fc3-e232-43c1-8e1d-ece6f3edb945",
   "metadata": {},
   "outputs": [],
   "source": [
    "def f2():\n",
    "    a=50 # local scope\n",
    "    print(a)"
   ]
  },
  {
   "cell_type": "code",
   "execution_count": 7,
   "id": "bb3383f5-3e1f-4df9-85d7-3b95f2052de9",
   "metadata": {},
   "outputs": [
    {
     "name": "stdout",
     "output_type": "stream",
     "text": [
      "100\n",
      "50\n",
      "100\n",
      "\n",
      "\n"
     ]
    }
   ],
   "source": [
    "f1()\n",
    "f2()\n",
    "print(a) # Still uses Global scope\n",
    "print(\"\\n\")"
   ]
  },
  {
   "cell_type": "code",
   "execution_count": 8,
   "id": "272447bf-9401-4a92-b40e-668d404e1672",
   "metadata": {},
   "outputs": [
    {
     "name": "stdout",
     "output_type": "stream",
     "text": [
      "100\n"
     ]
    }
   ],
   "source": [
    "# Overwrite a global variable inside a function by keyword global    \n",
    "a=100\n",
    "print(a)"
   ]
  },
  {
   "cell_type": "code",
   "execution_count": 9,
   "id": "46ff462c-c5fd-4471-a4e8-d97d3db6b070",
   "metadata": {},
   "outputs": [],
   "source": [
    "def f1():\n",
    "    global a\n",
    "    a=200    \n",
    "    print(a) # Global scope"
   ]
  },
  {
   "cell_type": "code",
   "execution_count": 10,
   "id": "44e751c4-ad67-45eb-bfef-3f666cb9a9f7",
   "metadata": {},
   "outputs": [],
   "source": [
    "def f2():\n",
    "    a=50 # local scope\n",
    "    print(a)"
   ]
  },
  {
   "cell_type": "code",
   "execution_count": 11,
   "id": "856e65b2-d598-454b-bd74-0f702ca1e507",
   "metadata": {},
   "outputs": [
    {
     "name": "stdout",
     "output_type": "stream",
     "text": [
      "200\n",
      "50\n",
      "200\n",
      "\n",
      "\n"
     ]
    }
   ],
   "source": [
    "f1()\n",
    "f2()\n",
    "print(a) # New value of Global a\n",
    "print(\"\\n\")"
   ]
  },
  {
   "cell_type": "code",
   "execution_count": 12,
   "id": "d7b1f0ac-0590-4eae-9e50-c66c66aa9ab3",
   "metadata": {},
   "outputs": [
    {
     "name": "stdout",
     "output_type": "stream",
     "text": [
      "[80, 90, 100]\n"
     ]
    }
   ],
   "source": [
    "# List elements are exception!\n",
    "a=[80,90,100]\n",
    "print(a)"
   ]
  },
  {
   "cell_type": "code",
   "execution_count": 13,
   "id": "e9c3f6c8-fca6-4eb2-b448-ebf9c0853b86",
   "metadata": {},
   "outputs": [],
   "source": [
    "def f1():\n",
    "    global a\n",
    "    a[0]=200    \n",
    "    print(a) # Global scope"
   ]
  },
  {
   "cell_type": "code",
   "execution_count": 14,
   "id": "b7d8e745-03ba-40f7-98f2-b9155c884602",
   "metadata": {},
   "outputs": [],
   "source": [
    "def f2():\n",
    "    a[0]=50 # local scope\n",
    "    print(a)"
   ]
  },
  {
   "cell_type": "code",
   "execution_count": 15,
   "id": "1f130a24-3ab8-4315-87b0-d308248e671a",
   "metadata": {},
   "outputs": [
    {
     "name": "stdout",
     "output_type": "stream",
     "text": [
      "[200, 90, 100]\n",
      "[50, 90, 100]\n",
      "[50, 90, 100]\n",
      "\n",
      "\n"
     ]
    }
   ],
   "source": [
    "f1()\n",
    "f2()\n",
    "print(a) # New value of Global a based on change in f2()\n",
    "print(\"\\n\")   "
   ]
  },
  {
   "cell_type": "code",
   "execution_count": 16,
   "id": "97a422a8-b1eb-496b-bd8b-609de16bcd1b",
   "metadata": {},
   "outputs": [],
   "source": [
    "# Function Parameters and Arguments\n",
    "def about(name,age,likes): #parametes are name, age, and likes\n",
    "    sentence=\"Meet {}! They are {} years old and they like {}\".format(name,age,likes)\n",
    "    return sentence"
   ]
  },
  {
   "cell_type": "code",
   "execution_count": 17,
   "id": "70c1495b-c24a-4890-b2af-8f6f76921fbf",
   "metadata": {},
   "outputs": [
    {
     "name": "stdout",
     "output_type": "stream",
     "text": [
      "Meet Jack! They are 23 years old and they like Python\n"
     ]
    }
   ],
   "source": [
    "text=about(\"Jack\",23,\"Python\") #Position arguments are Jack, 23 and Python\n",
    "print(text)"
   ]
  },
  {
   "cell_type": "code",
   "execution_count": 18,
   "id": "41b2f54b-802a-4bf9-a43c-21c1708ebae7",
   "metadata": {},
   "outputs": [
    {
     "name": "stdout",
     "output_type": "stream",
     "text": [
      "Meet Jack! They are 23 years old and they like Python\n"
     ]
    }
   ],
   "source": [
    "# OR, alternatively:\n",
    "text=about(age=23,likes=\"Python\",name=\"Jack\") #Keyword arguments are age=23, etc\n",
    "print(text)    "
   ]
  },
  {
   "cell_type": "code",
   "execution_count": 19,
   "id": "6ede89aa-5b63-432f-a21e-e63331682f93",
   "metadata": {},
   "outputs": [
    {
     "name": "stdout",
     "output_type": "stream",
     "text": [
      "MeetRamin! They are 32 years old and they like Tennis\n"
     ]
    }
   ],
   "source": [
    "#Parameters with default values    \n",
    "def about(name=\"Jack\",age=29,likes=\"Python\"): #parametes are name, age, and likes\n",
    "    sentence=\"Meet{}! They are {} years old and they like {}\".format(name,age,likes)\n",
    "    return sentence    \n",
    "text=about(\"Ramin\",32,\"Tennis\") \n",
    "print(text)    "
   ]
  },
  {
   "cell_type": "code",
   "execution_count": 20,
   "id": "faa322ff-a32f-492e-9ddd-7370a4b04700",
   "metadata": {},
   "outputs": [
    {
     "name": "stdout",
     "output_type": "stream",
     "text": [
      "MeetRamin! They are 32 years old and they like Tennis\n"
     ]
    }
   ],
   "source": [
    "text=about(likes=\"Tennis\",name=\"Ramin\",age=32) \n",
    "print(text)   "
   ]
  },
  {
   "cell_type": "code",
   "execution_count": 21,
   "id": "92ac8948-8dc6-4d3c-aaa0-d7631484b6c4",
   "metadata": {},
   "outputs": [
    {
     "name": "stdout",
     "output_type": "stream",
     "text": [
      "[1, 2, 3, 4, 5]\n"
     ]
    }
   ],
   "source": [
    "#Packing and Unpacking variables\n",
    "numbers=[1,2,3,4,5]\n",
    "print(numbers)\n",
    "# Unpack the list with *, DID not work!\n",
    "#print(*numbers)"
   ]
  },
  {
   "cell_type": "code",
   "execution_count": 22,
   "id": "4d0ebd7d-a963-417a-a2b6-1036dc5c3063",
   "metadata": {},
   "outputs": [
    {
     "name": "stdout",
     "output_type": "stream",
     "text": [
      "['', '', '', '', '', '', '', '', '']\n"
     ]
    }
   ],
   "source": [
    "board=[\"\" for i in range(9)]\n",
    "print(board)  "
   ]
  },
  {
   "cell_type": "code",
   "execution_count": null,
   "id": "fe063861-c55c-4200-b6d9-1790a1e10d10",
   "metadata": {},
   "outputs": [],
   "source": []
  }
 ],
 "metadata": {
  "kernelspec": {
   "display_name": "anaconda-panel-2023.05-py310",
   "language": "python",
   "name": "conda-env-anaconda-panel-2023.05-py310-py"
  },
  "language_info": {
   "codemirror_mode": {
    "name": "ipython",
    "version": 3
   },
   "file_extension": ".py",
   "mimetype": "text/x-python",
   "name": "python",
   "nbconvert_exporter": "python",
   "pygments_lexer": "ipython3",
   "version": "3.11.5"
  }
 },
 "nbformat": 4,
 "nbformat_minor": 5
}
