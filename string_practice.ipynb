{
 "cells": [
  {
   "cell_type": "code",
   "execution_count": 1,
   "id": "d5f89ac5-a368-4c62-9a12-4fb13281ac44",
   "metadata": {},
   "outputs": [
    {
     "data": {
      "text/plain": [
       "'\\nCreated on Tue Nov 15 12:04:47 2016\\nFrom Umedy course: The Python Bible™\\nSection 5: How to use Strings to handle text in Python\\n'"
      ]
     },
     "execution_count": 1,
     "metadata": {},
     "output_type": "execute_result"
    }
   ],
   "source": [
    "\"\"\"\n",
    "Created on Tue Nov 15 12:04:47 2016\n",
    "From Umedy course: The Python Bible™\n",
    "Section 5: How to use Strings to handle text in Python\n",
    "\"\"\""
   ]
  },
  {
   "cell_type": "code",
   "execution_count": 2,
   "id": "a3b4729a-7e90-4b73-ae72-358686b8785f",
   "metadata": {},
   "outputs": [
    {
     "name": "stdout",
     "output_type": "stream",
     "text": [
      "3\n",
      "s d\n",
      "BIRTHDAY\n",
      "BIRTHDAYwsdmds\n",
      "sdweBIRTHDAY\n"
     ]
    }
   ],
   "source": [
    "#Slicer\n",
    "x=\"sdweBIRTHDAYwsdmds\"\n",
    "print(x.count(\"d\"))\n",
    "print(x[0],x[-2])\n",
    "#Slicer, just wants to get BIRTHDAY\n",
    "print(x[x.index(\"B\"):x.index(\"ws\")])\n",
    "print(x[x.index(\"B\"):])\n",
    "print(x[:x.index(\"ws\")])"
   ]
  },
  {
   "cell_type": "code",
   "execution_count": 3,
   "id": "c0e03d60-b0c0-4fe2-8c50-fb4b79b57872",
   "metadata": {},
   "outputs": [
    {
     "name": "stdin",
     "output_type": "stream",
     "text": [
      "what is your name?:  Ramin\n",
      "How old are you?:  38\n",
      "where do you live?:  Toronto\n",
      "What do you like to do?:  Tennis\n"
     ]
    },
    {
     "name": "stdout",
     "output_type": "stream",
     "text": [
      "Your name is Ramin and you are 38 years old. You live in Toronto and you love Tennis\n"
     ]
    }
   ],
   "source": [
    "#Input & string formatting\n",
    "#Why input has to be in '' or \"\" to be considered as string?!\n",
    "name=input('what is your name?: ')\n",
    "age=input(\"How old are you?: \")\n",
    "place=input(\"where do you live?: \")\n",
    "like=input(\"What do you like to do?: \")\n",
    "string=\"Your name is {} and you are {} years old. You live in {} and you love {}\"\n",
    "output=string.format(name,age,place,like)\n",
    "print(output)"
   ]
  },
  {
   "cell_type": "code",
   "execution_count": 4,
   "id": "a86b9e84-4a6d-448d-b78f-9b452bc55d25",
   "metadata": {},
   "outputs": [
    {
     "name": "stdin",
     "output_type": "stream",
     "text": [
      "what is your email address?:  rr@gmail.com\n"
     ]
    },
    {
     "name": "stdout",
     "output_type": "stream",
     "text": [
      "Your email is: rr@gmail.com\n",
      "Your email is rr@gmail.com\n"
     ]
    }
   ],
   "source": [
    "#Email slicer\n",
    "#Why input has to be in '' or \"\" to be considered as string?!\n",
    "email=input(\"what is your email address?: \").strip() #onlystrips off whitespace around the string\n",
    "email=email.replace(\" \",\"\") #strips off whitespaces elsewhere\n",
    "string=\"Your email is: {}\"\n",
    "output=string.format(email)\n",
    "print(output)\n",
    "# or, alternatively:\n",
    "print(\"Your email is {}\".format(email))"
   ]
  },
  {
   "cell_type": "code",
   "execution_count": 5,
   "id": "9b585fc2-9b59-40a8-a253-8ba2a7e2d950",
   "metadata": {},
   "outputs": [
    {
     "name": "stdout",
     "output_type": "stream",
     "text": [
      "Your username is: rr\n"
     ]
    }
   ],
   "source": [
    "username=email[:email.index(\"@\")]\n",
    "string=\"Your username is: {}\"\n",
    "output=string.format(username)\n",
    "print(output)"
   ]
  },
  {
   "cell_type": "code",
   "execution_count": 6,
   "id": "dd23163f-c137-4fd6-934a-ef8ad4f5527d",
   "metadata": {},
   "outputs": [
    {
     "name": "stdout",
     "output_type": "stream",
     "text": [
      "Your doamin is: gmail.com\n"
     ]
    }
   ],
   "source": [
    "domain=email[email.index(\"@\")+1:]\n",
    "string=\"Your doamin is: {}\"\n",
    "output=string.format(domain)\n",
    "print(output)"
   ]
  },
  {
   "cell_type": "code",
   "execution_count": null,
   "id": "f98b4d1f-d9ad-4442-91c5-3c93fadc7f04",
   "metadata": {},
   "outputs": [],
   "source": []
  }
 ],
 "metadata": {
  "kernelspec": {
   "display_name": "anaconda-panel-2023.05-py310",
   "language": "python",
   "name": "conda-env-anaconda-panel-2023.05-py310-py"
  },
  "language_info": {
   "codemirror_mode": {
    "name": "ipython",
    "version": 3
   },
   "file_extension": ".py",
   "mimetype": "text/x-python",
   "name": "python",
   "nbconvert_exporter": "python",
   "pygments_lexer": "ipython3",
   "version": "3.11.5"
  }
 },
 "nbformat": 4,
 "nbformat_minor": 5
}
