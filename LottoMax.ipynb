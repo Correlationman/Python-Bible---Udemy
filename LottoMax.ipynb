{
 "cells": [
  {
   "cell_type": "code",
   "execution_count": null,
   "id": "0f2f82c8-8339-42ac-9892-e7d22886791b",
   "metadata": {
    "editable": true,
    "slideshow": {
     "slide_type": ""
    },
    "tags": []
   },
   "outputs": [],
   "source": [
    "import random\n",
    "# Lotto Max\n",
    "Number = 7 \n",
    "Min = 1\n",
    "Max = 50\n",
    "Draws = 4\n",
    "for j in range(1,Draws+1):\n",
    "    pick = []\n",
    "    for i in range(1,Number+1):\n",
    "        draw=random.randint(Min,Max)\n",
    "        while draw in pick:\n",
    "            draw=random.randint(Min,Max)  \n",
    "        pick.append(draw)\n",
    "    pick.sort()\n",
    "    print(pick)"
   ]
  },
  {
   "cell_type": "code",
   "execution_count": null,
   "id": "6b101838-d546-4dbb-bb9b-45e58761ce62",
   "metadata": {},
   "outputs": [],
   "source": []
  },
  {
   "cell_type": "code",
   "execution_count": null,
   "id": "a977001c-3cb0-4a81-ab14-40763cfc2f0c",
   "metadata": {},
   "outputs": [],
   "source": []
  }
 ],
 "metadata": {
  "kernelspec": {
   "display_name": "anaconda-panel-2023.05-py310",
   "language": "python",
   "name": "conda-env-anaconda-panel-2023.05-py310-py"
  },
  "language_info": {
   "codemirror_mode": {
    "name": "ipython",
    "version": 3
   },
   "file_extension": ".py",
   "mimetype": "text/x-python",
   "name": "python",
   "nbconvert_exporter": "python",
   "pygments_lexer": "ipython3",
   "version": "3.11.5"
  }
 },
 "nbformat": 4,
 "nbformat_minor": 5
}
